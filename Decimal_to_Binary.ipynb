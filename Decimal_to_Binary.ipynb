{
 "cells": [
  {
   "cell_type": "markdown",
   "metadata": {},
   "source": [
    "## Decimal to Binary conversion"
   ]
  },
  {
   "cell_type": "code",
   "execution_count": 1,
   "metadata": {},
   "outputs": [],
   "source": [
    "# We will write a class to \n",
    "class Conversion_to_binary():\n",
    "    #method to convert decimal to binary\n",
    "    def to_binary(self,div):\n",
    "        self.div = div\n",
    "        binary = ''\n",
    "        if div == 1:\n",
    "            return \"1\"\n",
    "        if div == 0:\n",
    "            return \"0\"\n",
    "\n",
    "        while div>1:\n",
    "            reminder = div%2\n",
    "            div = div//2\n",
    "            binary = binary + str(reminder)\n",
    "            if div==1:\n",
    "                binary = binary + \"1\"\n",
    "                \n",
    "        binary = binary[::-1]\n",
    "        return binary\n",
    "    #method to convert range of decimals to binary\n",
    "    def to_binary_range(self,n):\n",
    "        self.n = n\n",
    "        for i in range(n+1):\n",
    "            print(f\"Binary Equivalent of {str(i)} --> {self.to_binary(i)}\")"
   ]
  },
  {
   "cell_type": "code",
   "execution_count": 2,
   "metadata": {},
   "outputs": [],
   "source": [
    "binary = Conversion_to_binary()"
   ]
  },
  {
   "cell_type": "code",
   "execution_count": 3,
   "metadata": {},
   "outputs": [
    {
     "data": {
      "text/plain": [
       "'1010'"
      ]
     },
     "execution_count": 3,
     "metadata": {},
     "output_type": "execute_result"
    }
   ],
   "source": [
    "binary.to_binary(10)"
   ]
  },
  {
   "cell_type": "code",
   "execution_count": 4,
   "metadata": {},
   "outputs": [
    {
     "name": "stdout",
     "output_type": "stream",
     "text": [
      "Binary Equivalent of 0 --> 0\n",
      "Binary Equivalent of 1 --> 1\n",
      "Binary Equivalent of 2 --> 10\n",
      "Binary Equivalent of 3 --> 11\n",
      "Binary Equivalent of 4 --> 100\n",
      "Binary Equivalent of 5 --> 101\n",
      "Binary Equivalent of 6 --> 110\n",
      "Binary Equivalent of 7 --> 111\n",
      "Binary Equivalent of 8 --> 1000\n",
      "Binary Equivalent of 9 --> 1001\n",
      "Binary Equivalent of 10 --> 1010\n"
     ]
    }
   ],
   "source": [
    "binary.to_binary_range(10)"
   ]
  },
  {
   "cell_type": "code",
   "execution_count": 5,
   "metadata": {},
   "outputs": [
    {
     "data": {
      "text/plain": [
       "'111000'"
      ]
     },
     "execution_count": 5,
     "metadata": {},
     "output_type": "execute_result"
    }
   ],
   "source": [
    "binary.to_binary(56)"
   ]
  },
  {
   "cell_type": "code",
   "execution_count": 6,
   "metadata": {},
   "outputs": [
    {
     "name": "stdout",
     "output_type": "stream",
     "text": [
      "Binary Equivalent of 0 --> 0\n",
      "Binary Equivalent of 1 --> 1\n",
      "Binary Equivalent of 2 --> 10\n",
      "Binary Equivalent of 3 --> 11\n",
      "Binary Equivalent of 4 --> 100\n",
      "Binary Equivalent of 5 --> 101\n",
      "Binary Equivalent of 6 --> 110\n",
      "Binary Equivalent of 7 --> 111\n",
      "Binary Equivalent of 8 --> 1000\n",
      "Binary Equivalent of 9 --> 1001\n",
      "Binary Equivalent of 10 --> 1010\n",
      "Binary Equivalent of 11 --> 1011\n",
      "Binary Equivalent of 12 --> 1100\n",
      "Binary Equivalent of 13 --> 1101\n",
      "Binary Equivalent of 14 --> 1110\n",
      "Binary Equivalent of 15 --> 1111\n",
      "Binary Equivalent of 16 --> 10000\n"
     ]
    }
   ],
   "source": [
    "binary.to_binary_range(16)"
   ]
  }
 ],
 "metadata": {
  "kernelspec": {
   "display_name": "Python 3",
   "language": "python",
   "name": "python3"
  },
  "language_info": {
   "codemirror_mode": {
    "name": "ipython",
    "version": 3
   },
   "file_extension": ".py",
   "mimetype": "text/x-python",
   "name": "python",
   "nbconvert_exporter": "python",
   "pygments_lexer": "ipython3",
   "version": "3.7.6"
  }
 },
 "nbformat": 4,
 "nbformat_minor": 4
}
